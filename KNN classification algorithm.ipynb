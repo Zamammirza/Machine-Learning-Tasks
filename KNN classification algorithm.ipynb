{
  "nbformat": 4,
  "nbformat_minor": 0,
  "metadata": {
    "colab": {
      "provenance": []
    },
    "kernelspec": {
      "name": "python3",
      "display_name": "Python 3"
    },
    "language_info": {
      "name": "python"
    }
  },
  "cells": [
    {
      "cell_type": "code",
      "execution_count": 1,
      "metadata": {
        "id": "CRiJwwTW1LNx"
      },
      "outputs": [],
      "source": [
        "# Python program to demonstrate\n",
        "# KNN classification algorithm\n",
        "# on IRIS dataset\n",
        "\n",
        "from sklearn.datasets import load_iris\n",
        "from sklearn.neighbors import KNeighborsClassifier\n",
        "import numpy as np\n",
        "from sklearn.model_selection import train_test_split"
      ]
    },
    {
      "cell_type": "code",
      "source": [
        "iris_dataset = load_iris()\n",
        "X_train, X_test, y_train, y_test = train_test_split(iris_dataset[\"data\"],\n",
        "iris_dataset[\"target\"], random_state = 0)\n"
      ],
      "metadata": {
        "id": "sBHChTaV1k6g"
      },
      "execution_count": 2,
      "outputs": []
    },
    {
      "cell_type": "code",
      "source": [
        "kn = KNeighborsClassifier(n_neighbors = 1)\n",
        "kn.fit(X_train, y_train)\n",
        "x_new = np.array([[5, 2.9, 1, 0.2]])\n",
        "prediction = kn.predict(x_new)\n",
        "print(\"Predicted target value: {}\\n\".format(prediction))\n",
        "print (\"Predicted feature name: {}\\n\".format\n",
        "(iris_dataset[\"target_names\"][prediction]))\n",
        "print (\"Test score: {:.2f}\".format(kn.score(X_test, y_test)))"
      ],
      "metadata": {
        "colab": {
          "base_uri": "https://localhost:8080/"
        },
        "id": "nGyhbGRF17i7",
        "outputId": "6e34eed1-6f76-4b60-eb22-78282af870d1"
      },
      "execution_count": 5,
      "outputs": [
        {
          "output_type": "stream",
          "name": "stdout",
          "text": [
            "Predicted target value: [0]\n",
            "\n",
            "Predicted feature name: ['setosa']\n",
            "\n",
            "Test score: 0.97\n"
          ]
        }
      ]
    }
  ]
}